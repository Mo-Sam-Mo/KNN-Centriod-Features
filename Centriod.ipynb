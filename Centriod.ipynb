{
  "nbformat": 4,
  "nbformat_minor": 0,
  "metadata": {
    "colab": {
      "provenance": []
    },
    "kernelspec": {
      "name": "python3",
      "display_name": "Python 3"
    },
    "language_info": {
      "name": "python"
    },
    "accelerator": "GPU",
    "gpuClass": "standard"
  },
  "cells": [
    {
      "cell_type": "markdown",
      "source": [
        "#Load Mnist Dataset"
      ],
      "metadata": {
        "id": "E1FduSKSQivq"
      }
    },
    {
      "cell_type": "code",
      "source": [
        "import tensorflow as tf\n",
        "import numpy as np \n",
        "from matplotlib import pyplot as plt\n",
        "from sklearn.metrics import accuracy_score\n",
        "from keras.datasets import mnist"
      ],
      "metadata": {
        "id": "Sol8lJjDeMYN"
      },
      "execution_count": null,
      "outputs": []
    },
    {
      "cell_type": "code",
      "source": [
        "mnist = tf.keras.datasets.mnist\n",
        "(train_images, train_labels), (test_images, test_labels) = mnist.load_data()"
      ],
      "metadata": {
        "id": "6utSy1-yo0wu",
        "colab": {
          "base_uri": "https://localhost:8080/"
        },
        "outputId": "35c1bba9-de1b-4e56-e614-7d9c6e440016"
      },
      "execution_count": null,
      "outputs": [
        {
          "output_type": "stream",
          "name": "stdout",
          "text": [
            "Downloading data from https://storage.googleapis.com/tensorflow/tf-keras-datasets/mnist.npz\n",
            "11490434/11490434 [==============================] - 2s 0us/step\n"
          ]
        }
      ]
    },
    {
      "cell_type": "markdown",
      "source": [
        "#Feature Extraction \"Centroid \""
      ],
      "metadata": {
        "id": "g0fQHuW_eYjr"
      }
    },
    {
      "cell_type": "code",
      "source": [
        "def imaged_grid(img , row , col ):\n",
        "\n",
        "    x , y = img.shape\n",
        "\n",
        "    if (x % row != 0 ):\n",
        "      print(\"rows not divisable\")\n",
        "    elif (y % col != 0):\n",
        "      print(\"col not divisable\")\n",
        "\n",
        "    else:\n",
        "      img=img.reshape ( x //row, row, -1, col)\n",
        "      img=img.swapaxes (1,2)\n",
        "      img=img.reshape (-1, row, col)\n",
        "    return img"
      ],
      "metadata": {
        "id": "Z3knEQ_yo0ub"
      },
      "execution_count": null,
      "outputs": []
    },
    {
      "cell_type": "code",
      "source": [
        "def get_centroid(img):\n",
        "    feature_vector = []\n",
        "    for grid in imaged_grid(img , 7 , 7 ) :    \n",
        "        Xc = 0 \n",
        "        Yc = 0 \n",
        "        sum = 0\n",
        "        for index, x in np.ndenumerate(grid):\n",
        "          sum+= x \n",
        "          Xc += x * index[0]\n",
        "          Yc += x * index[1]\n",
        "\n",
        "        if sum != 0 :\n",
        "            feature_vector.append( Xc/ sum )\n",
        "            feature_vector.append(Yc/ sum )\n",
        "        else :\n",
        "             feature_vector.append(0)\n",
        "             feature_vector.append(0)\n",
        "    return np.array(feature_vector)"
      ],
      "metadata": {
        "id": "sBcCceMco0sN"
      },
      "execution_count": null,
      "outputs": []
    },
    {
      "cell_type": "code",
      "source": [
        "train_features = [get_centroid(img)  for img in train_images  ]"
      ],
      "metadata": {
        "id": "ihduoJmto0pt"
      },
      "execution_count": null,
      "outputs": []
    },
    {
      "cell_type": "code",
      "source": [
        "train_features = np.array(train_features)\n",
        "train_features.shape"
      ],
      "metadata": {
        "id": "HA_CjD0oo0jV"
      },
      "execution_count": null,
      "outputs": []
    },
    {
      "cell_type": "markdown",
      "source": [
        "#Classification Algorithms \"KNN\""
      ],
      "metadata": {
        "id": "oyRjYELGem1i"
      }
    },
    {
      "cell_type": "code",
      "source": [
        "def knn_classifier(train_data, test_data, k):\n",
        "    num_test = len(test_data)\n",
        "    num_train = len(train_data)\n",
        "    accuracy = 0\n",
        "    \n",
        "    for i in range(num_test):\n",
        "        test_feature = get_centroid(test_data[i])\n",
        "        \n",
        "        distances = np.zeros(num_train)\n",
        "        for j in range(num_train):\n",
        "            distances[j] = np.linalg.norm(test_feature - train_data[j])\n",
        "        \n",
        "        indices = np.argsort(distances)[:k]\n",
        "        \n",
        "        labels = train_labels[indices]\n",
        "        \n",
        "        prediction = np.bincount(labels).argmax()\n",
        "        \n",
        "        if prediction == test_labels[i]:\n",
        "            accuracy += 1\n",
        "            \n",
        "    accuracy /= num_test\n",
        "    return accuracy"
      ],
      "metadata": {
        "id": "Cqew-GIvefyS"
      },
      "execution_count": null,
      "outputs": []
    },
    {
      "cell_type": "code",
      "source": [
        "accuracy=knn_classifier(train_features, test_images, 1)"
      ],
      "metadata": {
        "id": "ssYD7oOKefvV"
      },
      "execution_count": null,
      "outputs": []
    },
    {
      "cell_type": "code",
      "source": [
        "print(accuracy)"
      ],
      "metadata": {
        "id": "9yackPCSC7Tb"
      },
      "execution_count": null,
      "outputs": []
    }
  ]
}