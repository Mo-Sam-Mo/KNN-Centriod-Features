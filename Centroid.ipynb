{
  "nbformat": 4,
  "nbformat_minor": 0,
  "metadata": {
    "colab": {
      "provenance": [],
      "collapsed_sections": [
        "E1FduSKSQivq"
      ]
    },
    "kernelspec": {
      "name": "python3",
      "display_name": "Python 3"
    },
    "language_info": {
      "name": "python"
    },
    "accelerator": "GPU",
    "gpuClass": "standard"
  },
  "cells": [
    {
      "cell_type": "markdown",
      "source": [
        "#Import lib"
      ],
      "metadata": {
        "id": "E1FduSKSQivq"
      }
    },
    {
      "cell_type": "code",
      "source": [
        "import tensorflow as tf\n",
        "import numpy as np \n",
        "from matplotlib import pyplot as plt\n",
        "from sklearn.metrics import accuracy_score\n",
        "from keras.datasets import mnist"
      ],
      "metadata": {
        "id": "Sol8lJjDeMYN"
      },
      "execution_count": 6,
      "outputs": []
    },
    {
      "cell_type": "markdown",
      "source": [
        "#Load Mnist Dataset"
      ],
      "metadata": {
        "id": "rNXdMu5_uP6j"
      }
    },
    {
      "cell_type": "code",
      "source": [
        "mnist = tf.keras.datasets.mnist\n",
        "(train_images, train_labels), (test_images, test_labels) = mnist.load_data() #60000 images for Train & 10000 images for Test"
      ],
      "metadata": {
        "id": "6utSy1-yo0wu"
      },
      "execution_count": 7,
      "outputs": []
    },
    {
      "cell_type": "markdown",
      "source": [
        "#Used Functions"
      ],
      "metadata": {
        "id": "g0fQHuW_eYjr"
      }
    },
    {
      "cell_type": "code",
      "source": [
        "def imaged_grid(img , row , col ):\n",
        "  \n",
        "    \"\"\"\n",
        "    Function imaged_grid accepts three arguments:\n",
        "    :param img: input image.\n",
        "    :param row: number of rows.\n",
        "    :param col: number of columns.\n",
        "    :return: sub-grids of the specified dimensions.\n",
        "    \"\"\"   \n",
        "\n",
        "    # Get the shape of the image and assign the values to variables x and y\n",
        "    x , y = img.shape\n",
        "    \n",
        "    # If the number of rows is not divisible by x, print an error message\n",
        "    if (x % row != 0 ):\n",
        "      print(\"rows not divisable\")\n",
        "    \n",
        "    # If the number of columns is not divisible by y, print an error message\n",
        "    elif (y % col != 0):\n",
        "      print(\"col not divisable\")\n",
        "    \n",
        "    # If both number of rows and columns are divisible by x and y respectively,\n",
        "    # reshape the input image using row and col values and return the result\n",
        "    else:\n",
        "      img=img.reshape ( x //row, row, -1, col)\n",
        "      img=img.swapaxes (1,2)\n",
        "      img=img.reshape (-1, row, col)\n",
        "    return img\n"
      ],
      "metadata": {
        "id": "Z3knEQ_yo0ub"
      },
      "execution_count": 8,
      "outputs": []
    },
    {
      "cell_type": "code",
      "source": [
        "def get_centroid(img,row, col):\n",
        "\n",
        "    \"\"\"\n",
        "    Function get_centroid accepts three arguments:\n",
        "    :param img: input image.\n",
        "    :param row: number of rows.\n",
        "    :param col: number of columns.\n",
        "    :return: a feature vector as a numpy array consisting of the centroid of each grid in the image.\n",
        "\n",
        "    \"\"\"\n",
        "\n",
        "    feature_vector = []\n",
        "    # The image is divided into grids using the \"imaged_grid\" function with the specified row and column numbers.\n",
        "    for grid in imaged_grid(img , row, col ) :    \n",
        "        Xc = 0 \n",
        "        Yc = 0 \n",
        "        sum = 0\n",
        "\n",
        "        # For each grid, the centroid (Xc, Yc) is calculated using the indices and values of the grid.\n",
        "        for index, x in np.ndenumerate(grid):\n",
        "          sum+= x \n",
        "          Xc += x * index[0]\n",
        "          Yc += x * index[1]\n",
        "          \n",
        "        # The centroid is added to the feature vector if the sum of the values of the grid is not zero.\n",
        "        if sum != 0 :\n",
        "            feature_vector.append( Xc/ sum )\n",
        "            feature_vector.append(Yc/ sum )\n",
        "\n",
        "        # If the sum is zero, (0, 0) is added to the feature vector.\n",
        "        else :\n",
        "             feature_vector.append(0)\n",
        "             feature_vector.append(0)\n",
        "    return np.array(feature_vector)"
      ],
      "metadata": {
        "id": "sBcCceMco0sN"
      },
      "execution_count": 10,
      "outputs": []
    },
    {
      "cell_type": "markdown",
      "source": [
        "#Feature Extraction \"Centroid \""
      ],
      "metadata": {
        "id": "rufFS5hG1yuT"
      }
    },
    {
      "cell_type": "code",
      "source": [
        "#converting every sample to corresponding centroids feature (it will take some time)\n",
        "train_features = [get_centroid(img,7,7)  for img in train_images  ]"
      ],
      "metadata": {
        "id": "ihduoJmto0pt"
      },
      "execution_count": null,
      "outputs": []
    },
    {
      "cell_type": "code",
      "source": [
        "train_features = np.array(train_features)\n",
        "train_features.shape"
      ],
      "metadata": {
        "colab": {
          "base_uri": "https://localhost:8080/"
        },
        "id": "HA_CjD0oo0jV",
        "outputId": "8cfef45c-680e-4c5c-ec2f-b82f242d9409"
      },
      "execution_count": null,
      "outputs": [
        {
          "output_type": "execute_result",
          "data": {
            "text/plain": [
              "(60000, 32)"
            ]
          },
          "metadata": {},
          "execution_count": 6
        }
      ]
    },
    {
      "cell_type": "markdown",
      "source": [
        "#Classification Algorithms \"KNN\""
      ],
      "metadata": {
        "id": "oyRjYELGem1i"
      }
    },
    {
      "cell_type": "code",
      "source": [
        "def knn_classifier(train_data, test_data, k):\n",
        "\n",
        "    \"\"\"\n",
        "    Function knn_classifier accepts three arguments:\n",
        "    :param train_data: train data feature.\n",
        "    :param test_data: test data(as image -it get centroid feature inside the function).\n",
        "    :param k: number of k nearest neighbours \n",
        "    :return: the accuracy on test data .\n",
        "    \"\"\"   \n",
        "\n",
        "    num_test = len(test_data)\n",
        "    num_train = len(train_data)\n",
        "    accuracy = 0\n",
        "    \n",
        "    for i in range(num_test):\n",
        "        # Calculate centroid for test image\n",
        "        test_feature = get_centroid(test_data[i])\n",
        "        \n",
        "        # Calculate Euclidean distance between test feature and each training feature\n",
        "        distances = np.zeros(num_train)\n",
        "        for j in range(num_train):\n",
        "            distances[j] = np.linalg.norm(test_feature - train_data[j])\n",
        "        \n",
        "        # Get indices of the k smallest distances\n",
        "        indices = np.argsort(distances)[:k]\n",
        "        \n",
        "        # Get labels of the k nearest neighbors\n",
        "        labels = train_labels[indices]\n",
        "        \n",
        "        # Find the most common label among the k neighbors\n",
        "        prediction = np.bincount(labels).argmax()\n",
        "        \n",
        "        # Compare prediction with actual test label\n",
        "        if prediction == test_labels[i]:\n",
        "            accuracy += 1\n",
        "            \n",
        "    accuracy /= num_test\n",
        "    return accuracy"
      ],
      "metadata": {
        "id": "Cqew-GIvefyS"
      },
      "execution_count": null,
      "outputs": []
    },
    {
      "cell_type": "code",
      "source": [
        "accuracy=knn_classifier(train_features, test_images, 1)"
      ],
      "metadata": {
        "id": "ssYD7oOKefvV"
      },
      "execution_count": null,
      "outputs": []
    },
    {
      "cell_type": "code",
      "source": [
        "print(accuracy)"
      ],
      "metadata": {
        "colab": {
          "base_uri": "https://localhost:8080/"
        },
        "id": "9yackPCSC7Tb",
        "outputId": "5af6f83e-5546-4e33-97bb-d2612a0feafa"
      },
      "execution_count": null,
      "outputs": [
        {
          "output_type": "stream",
          "name": "stdout",
          "text": [
            "0.9174\n"
          ]
        }
      ]
    }
  ]
}
